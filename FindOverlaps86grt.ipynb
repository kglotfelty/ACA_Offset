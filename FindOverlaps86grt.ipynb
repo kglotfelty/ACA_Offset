{
 "cells": [
  {
   "cell_type": "code",
   "execution_count": 1,
   "metadata": {},
   "outputs": [],
   "source": [
    "%matplotlib inline\n",
    "import matplotlib.pylab as plt"
   ]
  },
  {
   "cell_type": "code",
   "execution_count": 2,
   "metadata": {},
   "outputs": [],
   "source": [
    "import numpy as np"
   ]
  },
  {
   "cell_type": "code",
   "execution_count": 3,
   "metadata": {},
   "outputs": [],
   "source": [
    "from pycrates import read_file"
   ]
  },
  {
   "cell_type": "code",
   "execution_count": 4,
   "metadata": {},
   "outputs": [],
   "source": [
    "from coords.utils import point_separation"
   ]
  },
  {
   "cell_type": "code",
   "execution_count": 5,
   "metadata": {},
   "outputs": [],
   "source": [
    "tab = read_file(\"obspar.fits\")"
   ]
  },
  {
   "cell_type": "code",
   "execution_count": 6,
   "metadata": {},
   "outputs": [],
   "source": [
    "obsid = tab.obs_id.values\n",
    "obi   = tab.obi_num.values\n",
    "inst  = tab.instrume.values\n",
    "det   = tab.detnam.values\n",
    "grt   = tab.grating.values\n",
    "obsmode = tab.obs_mode.values\n",
    "dmode = tab.datamode.values\n",
    "rmode = tab.readmode.values\n",
    "ra = tab.ra_pnt.values\n",
    "dec = tab.dec_pnt.values"
   ]
  },
  {
   "cell_type": "code",
   "execution_count": 7,
   "metadata": {},
   "outputs": [
    {
     "name": "stdout",
     "output_type": "stream",
     "text": [
      "{'CONTINUOUS', 'TIMED'}\n",
      "{'VFAINT', 'CC33_GRADED', 'FAINT_BIAS', 'CC33_FAINT', 'GRADED', 'FAINT', 'RAW'}\n",
      "{'SECONDARY', 'POINTING'}\n"
     ]
    }
   ],
   "source": [
    "print(set(rmode[inst=='ACIS']))\n",
    "print(set(dmode[inst=='ACIS']))\n",
    "print(set(obsmode))"
   ]
  },
  {
   "cell_type": "code",
   "execution_count": 9,
   "metadata": {},
   "outputs": [],
   "source": [
    "acis_only = np.where(inst==\"ACIS\")\n",
    "te_only = np.where(rmode==\"TIMED\")\n",
    "pointing = np.where(obsmode==\"POINTING\")"
   ]
  },
  {
   "cell_type": "code",
   "execution_count": 10,
   "metadata": {},
   "outputs": [],
   "source": [
    "myobs, = np.where( (inst=='ACIS') & (rmode=='TIMED') & (obsmode=='POINTING') & (grt=='NONE'))"
   ]
  },
  {
   "cell_type": "code",
   "execution_count": 11,
   "metadata": {},
   "outputs": [],
   "source": [
    "from collections import namedtuple\n",
    "Obs = namedtuple( 'Obs', ['obsid','obinum', 'ra', 'dec'])"
   ]
  },
  {
   "cell_type": "code",
   "execution_count": 12,
   "metadata": {},
   "outputs": [],
   "source": [
    "mylist = [Obs(obsid[i],obi[i],ra[i],dec[i]) for i in myobs]"
   ]
  },
  {
   "cell_type": "code",
   "execution_count": 13,
   "metadata": {},
   "outputs": [],
   "source": [
    "SEPARATION_THRESHOLD = 20/3600.0 # arcsec diff in pointing"
   ]
  },
  {
   "cell_type": "code",
   "execution_count": 14,
   "metadata": {},
   "outputs": [
    {
     "name": "stdout",
     "output_type": "stream",
     "text": [
      "0\n",
      "500\n",
      "1000\n",
      "1500\n",
      "2000\n",
      "2500\n",
      "3000\n",
      "3500\n",
      "4000\n",
      "4500\n",
      "5000\n",
      "5500\n",
      "6000\n",
      "6500\n",
      "7000\n",
      "7500\n",
      "8000\n",
      "8500\n",
      "9000\n",
      "9500\n",
      "10000\n",
      "10500\n",
      "11000\n",
      "11500\n",
      "12000\n",
      "12500\n",
      "13000\n",
      "13500\n"
     ]
    }
   ],
   "source": [
    "retval = {}\n",
    "n_obs = len(mylist)\n",
    "for ii in range(n_obs-1):    \n",
    "\n",
    "    if (ii%500)==0:\n",
    "        print(ii)\n",
    "\n",
    "    obsA = mylist[ii]\n",
    "    \n",
    "    ra_a = obsA.ra\n",
    "    dec_a = obsA.dec\n",
    "    \n",
    "    for jj in range(ii+1,n_obs):\n",
    "        obsB = mylist[jj]\n",
    "        ra_b = obsB.ra\n",
    "        dec_b = obsB.dec\n",
    "\n",
    "        if np.abs(dec_a-dec_b) > 3*SEPARATION_THRESHOLD:\n",
    "            continue        \n",
    "        \n",
    "        d = point_separation(ra_a, dec_a, ra_b,dec_b)\n",
    "        if d <= SEPARATION_THRESHOLD:\n",
    "            if obsA in retval:\n",
    "                retval[obsA].append(obsB)\n",
    "            else:\n",
    "                retval[obsA]=[obsB]\n",
    "            \n",
    "            if obsB in retval:\n",
    "                retval[obsB].append(obsA)\n",
    "            else:\n",
    "                retval[obsB]=[obsA]\n",
    "            "
   ]
  },
  {
   "cell_type": "code",
   "execution_count": 15,
   "metadata": {},
   "outputs": [
    {
     "data": {
      "text/plain": [
       "4706"
      ]
     },
     "execution_count": 15,
     "metadata": {},
     "output_type": "execute_result"
    }
   ],
   "source": [
    "len(retval)"
   ]
  },
  {
   "cell_type": "code",
   "execution_count": 16,
   "metadata": {},
   "outputs": [
    {
     "data": {
      "text/plain": [
       "13589"
      ]
     },
     "execution_count": 16,
     "metadata": {},
     "output_type": "execute_result"
    }
   ],
   "source": [
    "len(myobs)"
   ]
  },
  {
   "cell_type": "code",
   "execution_count": 17,
   "metadata": {},
   "outputs": [],
   "source": [
    "ll = [len(retval[x]) for x in retval]"
   ]
  },
  {
   "cell_type": "code",
   "execution_count": 18,
   "metadata": {},
   "outputs": [],
   "source": [
    "def myid(oo):\n",
    "    rr = \"o{}_{}\".format(oo.obsid,oo.obinum)\n",
    "    return(rr)\n",
    "   "
   ]
  },
  {
   "cell_type": "code",
   "execution_count": 19,
   "metadata": {},
   "outputs": [],
   "source": [
    "with open(\"match_no_tg.dat\",\"w\") as fp:\n",
    "    fp.write( \"digraph chandra { \\n\" )\n",
    "    \n",
    "    \n",
    "    for k in retval:\n",
    "        mm = myid(k)\n",
    "        ll = \",\".join([myid(x) for x in retval[k]])\n",
    "        fp.write(\"{} -> {{ {} }};\\n\".format(mm,ll))\n",
    "    \n",
    "    fp.write(\"}\\n\")"
   ]
  },
  {
   "cell_type": "code",
   "execution_count": 20,
   "metadata": {},
   "outputs": [],
   "source": [
    "%%bash \n",
    "neato  -Tpng match_no_tg.dat  > foo_no_tg.png"
   ]
  },
  {
   "cell_type": "code",
   "execution_count": 101,
   "metadata": {},
   "outputs": [],
   "source": [
    "#from IPython.display import Image\n",
    "#Image(filename='foo.png') \n"
   ]
  },
  {
   "cell_type": "code",
   "execution_count": 21,
   "metadata": {},
   "outputs": [],
   "source": [
    "!eog foo_no_tg.png\n"
   ]
  },
  {
   "cell_type": "code",
   "execution_count": null,
   "metadata": {},
   "outputs": [],
   "source": []
  },
  {
   "cell_type": "code",
   "execution_count": null,
   "metadata": {},
   "outputs": [],
   "source": []
  },
  {
   "cell_type": "code",
   "execution_count": null,
   "metadata": {},
   "outputs": [],
   "source": []
  },
  {
   "cell_type": "code",
   "execution_count": null,
   "metadata": {},
   "outputs": [],
   "source": []
  }
 ],
 "metadata": {
  "kernelspec": {
   "display_name": "Python 3",
   "language": "python",
   "name": "python3"
  },
  "language_info": {
   "codemirror_mode": {
    "name": "ipython",
    "version": 3
   },
   "file_extension": ".py",
   "mimetype": "text/x-python",
   "name": "python",
   "nbconvert_exporter": "python",
   "pygments_lexer": "ipython3",
   "version": "3.5.4"
  }
 },
 "nbformat": 4,
 "nbformat_minor": 2
}
